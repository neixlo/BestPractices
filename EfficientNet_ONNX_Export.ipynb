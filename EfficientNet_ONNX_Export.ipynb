{
  "nbformat": 4,
  "nbformat_minor": 0,
  "metadata": {
    "colab": {
      "name": "EfficientNet ONNX Export",
      "provenance": [],
      "collapsed_sections": [],
      "include_colab_link": true
    },
    "kernelspec": {
      "name": "python3",
      "display_name": "Python 3"
    }
  },
  "cells": [
    {
      "cell_type": "markdown",
      "metadata": {
        "id": "view-in-github",
        "colab_type": "text"
      },
      "source": [
        "<a href=\"https://colab.research.google.com/github/neixlo/BestPractices/blob/master/EfficientNet_ONNX_Export.ipynb\" target=\"_parent\"><img src=\"https://colab.research.google.com/assets/colab-badge.svg\" alt=\"Open In Colab\"/></a>"
      ]
    },
    {
      "cell_type": "code",
      "metadata": {
        "id": "gQpzOrtMYsuE"
      },
      "source": [
        "!pip install efficientnet_pytorch"
      ],
      "execution_count": null,
      "outputs": []
    },
    {
      "cell_type": "code",
      "metadata": {
        "id": "MpaiBnC4Yxh2"
      },
      "source": [
        "# Install ONNX in Colab\n",
        "!sudo apt-get install protobuf-compiler libprotoc-dev\n",
        "!pip install onnx"
      ],
      "execution_count": null,
      "outputs": []
    },
    {
      "cell_type": "code",
      "metadata": {
        "id": "BKeGU_GgYxrp"
      },
      "source": [
        "import torch\n",
        "from efficientnet_pytorch import EfficientNet"
      ],
      "execution_count": null,
      "outputs": []
    },
    {
      "cell_type": "code",
      "metadata": {
        "id": "fq4PfcmFYyeH"
      },
      "source": [
        "# Specify which model to use\n",
        "model_name = 'efficientnet-b1'\n",
        "image_size = EfficientNet.get_image_size(model_name)\n",
        "print('Image size: ', image_size)\n",
        "\n",
        "# Load model\n",
        "model = EfficientNet.from_pretrained(model_name)\n",
        "model.eval()\n",
        "print('Model image size: ', model._global_params.image_size)\n",
        "\n",
        "# Dummy input for ONNX\n",
        "dummy_input = torch.randn(10, 3, 224, 224)\n",
        "\n",
        "# Export with ONNX\n",
        "torch.onnx.export(model, dummy_input, \"efficientnet-b1.onnx\", verbose=True)"
      ],
      "execution_count": null,
      "outputs": []
    },
    {
      "cell_type": "code",
      "metadata": {
        "id": "uG0jiOIdYybb"
      },
      "source": [
        "# Test export \n",
        "import onnx\n",
        "\n",
        "model = onnx.load(\"efficientnet-b1.onnx\")\n",
        "\n",
        "# Check that the IR is well formed\n",
        "onnx.checker.check_model(model)\n",
        "\n",
        "# Print a human readable representation of the graph\n",
        "onnx.helper.printable_graph(model.graph)"
      ],
      "execution_count": null,
      "outputs": []
    },
    {
      "cell_type": "code",
      "metadata": {
        "id": "E6Oov2fXYyYu"
      },
      "source": [
        "# Things should look good"
      ],
      "execution_count": null,
      "outputs": []
    }
  ]
}